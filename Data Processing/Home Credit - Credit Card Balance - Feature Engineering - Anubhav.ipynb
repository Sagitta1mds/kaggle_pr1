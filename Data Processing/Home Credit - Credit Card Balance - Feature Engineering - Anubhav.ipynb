{
 "cells": [
  {
   "cell_type": "code",
   "execution_count": 3,
   "metadata": {},
   "outputs": [],
   "source": [
    "import numpy as np \n",
    "import pandas as pd \n",
    "import sys\n",
    "pd.set_option('display.max_colwidth', -1)\n",
    "import warnings\n",
    "warnings.filterwarnings(\"ignore\")\n",
    "import gc"
   ]
  },
  {
   "cell_type": "markdown",
   "metadata": {},
   "source": [
    "## Feature 1 - Number of Loans Per Customer"
   ]
  },
  {
   "cell_type": "code",
   "execution_count": 4,
   "metadata": {},
   "outputs": [],
   "source": [
    "CCB_FULL = pd.read_csv('credit_card_balance.csv')"
   ]
  },
  {
   "cell_type": "code",
   "execution_count": 5,
   "metadata": {},
   "outputs": [
    {
     "name": "stdout",
     "output_type": "stream",
     "text": [
      "SK_ID_PREV                    int64  \n",
      "SK_ID_CURR                    int64  \n",
      "MONTHS_BALANCE                int64  \n",
      "AMT_BALANCE                   float64\n",
      "AMT_CREDIT_LIMIT_ACTUAL       int64  \n",
      "AMT_DRAWINGS_ATM_CURRENT      float64\n",
      "AMT_DRAWINGS_CURRENT          float64\n",
      "AMT_DRAWINGS_OTHER_CURRENT    float64\n",
      "AMT_DRAWINGS_POS_CURRENT      float64\n",
      "AMT_INST_MIN_REGULARITY       float64\n",
      "AMT_PAYMENT_CURRENT           float64\n",
      "AMT_PAYMENT_TOTAL_CURRENT     float64\n",
      "AMT_RECEIVABLE_PRINCIPAL      float64\n",
      "AMT_RECIVABLE                 float64\n",
      "AMT_TOTAL_RECEIVABLE          float64\n",
      "CNT_DRAWINGS_ATM_CURRENT      float64\n",
      "CNT_DRAWINGS_CURRENT          int64  \n",
      "CNT_DRAWINGS_OTHER_CURRENT    float64\n",
      "CNT_DRAWINGS_POS_CURRENT      float64\n",
      "CNT_INSTALMENT_MATURE_CUM     float64\n",
      "NAME_CONTRACT_STATUS          object \n",
      "SK_DPD                        int64  \n",
      "SK_DPD_DEF                    int64  \n",
      "NO_LOANS                      int64  \n",
      "dtype: object (3840312, 24)\n"
     ]
    }
   ],
   "source": [
    "CCB = CCB_FULL[0:]\n",
    "grp = CCB.groupby(by = ['SK_ID_CURR'])['SK_ID_PREV'].nunique().reset_index().rename(index = str, columns = {'SK_ID_PREV': 'NO_LOANS'})\n",
    "CCB = CCB.merge(grp, on = ['SK_ID_CURR'], how = 'left')\n",
    "del grp \n",
    "gc.collect()\n",
    "print(CCB.dtypes, CCB.shape)"
   ]
  },
  {
   "attachments": {},
   "cell_type": "markdown",
   "metadata": {},
   "source": [
    "## Feature 2 - Rate of Payback of Loans - No of Instalments Paid by Customer Per Loan"
   ]
  },
  {
   "cell_type": "code",
   "execution_count": 6,
   "metadata": {},
   "outputs": [
    {
     "name": "stdout",
     "output_type": "stream",
     "text": [
      "SK_ID_PREV                    int64  \n",
      "SK_ID_CURR                    int64  \n",
      "MONTHS_BALANCE                int64  \n",
      "AMT_BALANCE                   float64\n",
      "AMT_CREDIT_LIMIT_ACTUAL       int64  \n",
      "AMT_DRAWINGS_ATM_CURRENT      float64\n",
      "AMT_DRAWINGS_CURRENT          float64\n",
      "AMT_DRAWINGS_OTHER_CURRENT    float64\n",
      "AMT_DRAWINGS_POS_CURRENT      float64\n",
      "AMT_INST_MIN_REGULARITY       float64\n",
      "AMT_PAYMENT_CURRENT           float64\n",
      "AMT_PAYMENT_TOTAL_CURRENT     float64\n",
      "AMT_RECEIVABLE_PRINCIPAL      float64\n",
      "AMT_RECIVABLE                 float64\n",
      "AMT_TOTAL_RECEIVABLE          float64\n",
      "CNT_DRAWINGS_ATM_CURRENT      float64\n",
      "CNT_DRAWINGS_CURRENT          int64  \n",
      "CNT_DRAWINGS_OTHER_CURRENT    float64\n",
      "CNT_DRAWINGS_POS_CURRENT      float64\n",
      "CNT_INSTALMENT_MATURE_CUM     float64\n",
      "NAME_CONTRACT_STATUS          object \n",
      "SK_DPD                        int64  \n",
      "SK_DPD_DEF                    int64  \n",
      "NO_LOANS                      int64  \n",
      "dtype: object\n",
      "SK_ID_PREV                    int64  \n",
      "SK_ID_CURR                    int64  \n",
      "MONTHS_BALANCE                int64  \n",
      "AMT_BALANCE                   float64\n",
      "AMT_CREDIT_LIMIT_ACTUAL       int64  \n",
      "AMT_DRAWINGS_ATM_CURRENT      float64\n",
      "AMT_DRAWINGS_CURRENT          float64\n",
      "AMT_DRAWINGS_OTHER_CURRENT    float64\n",
      "AMT_DRAWINGS_POS_CURRENT      float64\n",
      "AMT_INST_MIN_REGULARITY       float64\n",
      "AMT_PAYMENT_CURRENT           float64\n",
      "AMT_PAYMENT_TOTAL_CURRENT     float64\n",
      "AMT_RECEIVABLE_PRINCIPAL      float64\n",
      "AMT_RECIVABLE                 float64\n",
      "AMT_TOTAL_RECEIVABLE          float64\n",
      "CNT_DRAWINGS_ATM_CURRENT      float64\n",
      "CNT_DRAWINGS_CURRENT          int64  \n",
      "CNT_DRAWINGS_OTHER_CURRENT    float64\n",
      "CNT_DRAWINGS_POS_CURRENT      float64\n",
      "CNT_INSTALMENT_MATURE_CUM     float64\n",
      "NAME_CONTRACT_STATUS          object \n",
      "SK_DPD                        int64  \n",
      "SK_DPD_DEF                    int64  \n",
      "INSTALLMENTS_PER_LOAN         uint32 \n",
      "dtype: object (3840312, 24)\n"
     ]
    }
   ],
   "source": [
    "# CNT_INSTALMENT_MATURE_CUM gives number of installments paid as of that month \n",
    "# The Max of this column shows the total number of installments made for that loan \n",
    "\n",
    "CCB = CCB_FULL[0:]\n",
    "\n",
    "# No of Loans per customer \n",
    "\n",
    "CCB = CCB_FULL[0:]\n",
    "grp = CCB.groupby(by = ['SK_ID_CURR'])['SK_ID_PREV'].nunique().reset_index().rename(index = str, columns = {'SK_ID_PREV': 'NO_LOANS'})\n",
    "CCB = CCB.merge(grp, on = ['SK_ID_CURR'], how = 'left')\n",
    "del grp \n",
    "gc.collect()\n",
    "\n",
    "print(CCB.dtypes)\n",
    "\n",
    "\n",
    "# No of Installments paid per Loan per Customer \n",
    "\n",
    "grp = CCB.groupby(by = ['SK_ID_CURR', 'SK_ID_PREV'])['CNT_INSTALMENT_MATURE_CUM'].max().reset_index().rename(index = str, columns = {'CNT_INSTALMENT_MATURE_CUM': 'NO_INSTALMENTS'})\n",
    "grp1 = grp.groupby(by = ['SK_ID_CURR'])['NO_INSTALMENTS'].sum().reset_index().rename(index = str, columns = {'NO_INSTALMENTS': 'TOTAL_INSTALMENTS'})\n",
    "CCB = CCB.merge(grp1, on = ['SK_ID_CURR'], how = 'left')\n",
    "del grp, grp1\n",
    "gc.collect()\n",
    "\n",
    "# Average Number of installments paid per loan \n",
    "\n",
    "CCB['INSTALLMENTS_PER_LOAN'] = (CCB['TOTAL_INSTALMENTS']/CCB['NO_LOANS']).astype('uint32')\n",
    "del CCB['TOTAL_INSTALMENTS']\n",
    "del CCB['NO_LOANS']\n",
    "gc.collect()\n",
    "\n",
    "print(CCB.dtypes, CCB.shape)"
   ]
  },
  {
   "cell_type": "markdown",
   "metadata": {},
   "source": [
    "## Feature 3 - Avg % Loading of Credit Limit Per Customer"
   ]
  },
  {
   "cell_type": "markdown",
   "metadata": {},
   "source": [
    "### How Badly Did the Customer Need The Loan?"
   ]
  },
  {
   "cell_type": "markdown",
   "metadata": {},
   "source": [
    "#### In the line of code below, we can see that for a customer for a specific loan id, the 'AMT_CREDIT_LIMIT_ACTUAL' varies - 270K, 9K, 45K, 135K. In this feature we calculate the ratio of 'AMT_BALANCE', which is the total Balance on the credit account for a customer per loan, and the corresponding AMT_CREDIT_LIMIT_ACTUAL."
   ]
  },
  {
   "cell_type": "markdown",
   "metadata": {},
   "source": [
    "#### This gives us an indication of % Loading of Credit limit by Customer for each loan transaction. The assumption and approach could be WRONG. I would like to get feedback on this feature."
   ]
  },
  {
   "cell_type": "code",
   "execution_count": 7,
   "metadata": {},
   "outputs": [
    {
     "name": "stdout",
     "output_type": "stream",
     "text": [
      "SK_ID_CURR     int64  \n",
      "CREDIT_LOAD    float64\n",
      "dtype: object\n",
      "SK_ID_PREV                    int64  \n",
      "SK_ID_CURR                    int64  \n",
      "MONTHS_BALANCE                int64  \n",
      "AMT_BALANCE                   float64\n",
      "AMT_CREDIT_LIMIT_ACTUAL       int64  \n",
      "AMT_DRAWINGS_ATM_CURRENT      float64\n",
      "AMT_DRAWINGS_CURRENT          float64\n",
      "AMT_DRAWINGS_OTHER_CURRENT    float64\n",
      "AMT_DRAWINGS_POS_CURRENT      float64\n",
      "AMT_INST_MIN_REGULARITY       float64\n",
      "AMT_PAYMENT_CURRENT           float64\n",
      "AMT_PAYMENT_TOTAL_CURRENT     float64\n",
      "AMT_RECEIVABLE_PRINCIPAL      float64\n",
      "AMT_RECIVABLE                 float64\n",
      "AMT_TOTAL_RECEIVABLE          float64\n",
      "CNT_DRAWINGS_ATM_CURRENT      float64\n",
      "CNT_DRAWINGS_CURRENT          int64  \n",
      "CNT_DRAWINGS_OTHER_CURRENT    float64\n",
      "CNT_DRAWINGS_POS_CURRENT      float64\n",
      "CNT_INSTALMENT_MATURE_CUM     float64\n",
      "NAME_CONTRACT_STATUS          object \n",
      "SK_DPD                        int64  \n",
      "SK_DPD_DEF                    int64  \n",
      "CREDIT_LOAD                   float64\n",
      "dtype: object (3840312, 24)\n"
     ]
    }
   ],
   "source": [
    "CCB = CCB_FULL[0:]\n",
    "\n",
    "CCB['AMT_CREDIT_LIMIT_ACTUAL1'] = CCB['AMT_CREDIT_LIMIT_ACTUAL']\n",
    "\n",
    "def f(x1, x2):\n",
    "    \n",
    "    balance = x1.max()\n",
    "    limit = x2.max()\n",
    "    \n",
    "    return (balance/limit)\n",
    "\n",
    "# Calculate the ratio of Amount Balance to Credit Limit - CREDIT LOAD OF CUSTOMER \n",
    "# This is done for each Credit limit value per loan per Customer \n",
    "\n",
    "grp = CCB.groupby(by = ['SK_ID_CURR', 'SK_ID_PREV', 'AMT_CREDIT_LIMIT_ACTUAL']).apply(lambda x: f(x.AMT_BALANCE, x.AMT_CREDIT_LIMIT_ACTUAL1)).reset_index().rename(index = str, columns = {0: 'CREDIT_LOAD1'})\n",
    "del CCB['AMT_CREDIT_LIMIT_ACTUAL1']\n",
    "gc.collect()\n",
    "\n",
    "# We now calculate the mean Credit load of All Loan transactions of Customer \n",
    "grp1 = grp.groupby(by = ['SK_ID_CURR'])['CREDIT_LOAD1'].mean().reset_index().rename(index = str, columns = {'CREDIT_LOAD1': 'CREDIT_LOAD'})\n",
    "print(grp1.dtypes)\n",
    "\n",
    "CCB = CCB.merge(grp1, on = ['SK_ID_CURR'], how = 'left')\n",
    "del grp, grp1\n",
    "gc.collect()\n",
    "\n",
    "print(CCB.dtypes, CCB.shape)"
   ]
  },
  {
   "cell_type": "markdown",
   "metadata": {},
   "source": [
    "## Feature 4 - Average Number of Times Days Past Due Has Occurred Per Customer"
   ]
  },
  {
   "cell_type": "code",
   "execution_count": 8,
   "metadata": {},
   "outputs": [
    {
     "name": "stdout",
     "output_type": "stream",
     "text": [
      "SK_ID_PREV                    int64  \n",
      "SK_ID_CURR                    int64  \n",
      "MONTHS_BALANCE                int64  \n",
      "AMT_BALANCE                   float64\n",
      "AMT_CREDIT_LIMIT_ACTUAL       int64  \n",
      "AMT_DRAWINGS_ATM_CURRENT      float64\n",
      "AMT_DRAWINGS_CURRENT          float64\n",
      "AMT_DRAWINGS_OTHER_CURRENT    float64\n",
      "AMT_DRAWINGS_POS_CURRENT      float64\n",
      "AMT_INST_MIN_REGULARITY       float64\n",
      "AMT_PAYMENT_CURRENT           float64\n",
      "AMT_PAYMENT_TOTAL_CURRENT     float64\n",
      "AMT_RECEIVABLE_PRINCIPAL      float64\n",
      "AMT_RECIVABLE                 float64\n",
      "AMT_TOTAL_RECEIVABLE          float64\n",
      "CNT_DRAWINGS_ATM_CURRENT      float64\n",
      "CNT_DRAWINGS_CURRENT          int64  \n",
      "CNT_DRAWINGS_OTHER_CURRENT    float64\n",
      "CNT_DRAWINGS_POS_CURRENT      float64\n",
      "CNT_INSTALMENT_MATURE_CUM     float64\n",
      "NAME_CONTRACT_STATUS          object \n",
      "SK_DPD                        int64  \n",
      "SK_DPD_DEF                    int64  \n",
      "DPD_COUNT                     float64\n",
      "dtype: object (3840312, 24)\n"
     ]
    }
   ],
   "source": [
    "# Function to calculate number of times Days Past Due occurred \n",
    "\n",
    "CCB = CCB_FULL[0:]\n",
    "\n",
    "def f(DPD):\n",
    "    \n",
    "    # DPD is a series of values of SK_DPD for each of the groupby combination \n",
    "    # We convert it to a list to get the number of SK_DPD values NOT EQUALS ZERO\n",
    "    x = DPD.tolist()\n",
    "    c = 0\n",
    "    for i,j in enumerate(x):\n",
    "        if j != 0:\n",
    "            c += 1\n",
    "    \n",
    "    return c \n",
    "\n",
    "grp = CCB.groupby(by = ['SK_ID_CURR', 'SK_ID_PREV']).apply(lambda x: f(x.SK_DPD)).reset_index().rename(index = str, columns = {0: 'NO_DPD'})\n",
    "grp1 = grp.groupby(by = ['SK_ID_CURR'])['NO_DPD'].mean().reset_index().rename(index = str, columns = {'NO_DPD' : 'DPD_COUNT'})\n",
    "\n",
    "CCB = CCB.merge(grp1, on = ['SK_ID_CURR'], how = 'left')\n",
    "del grp1\n",
    "del grp \n",
    "gc.collect()\n",
    "\n",
    "print(CCB.dtypes, CCB.shape)"
   ]
  },
  {
   "cell_type": "markdown",
   "metadata": {},
   "source": [
    "## Feature 5 - Average of Days Past Due Per Customer"
   ]
  },
  {
   "cell_type": "code",
   "execution_count": 9,
   "metadata": {},
   "outputs": [
    {
     "name": "stdout",
     "output_type": "stream",
     "text": [
      "SK_ID_PREV                    int64  \n",
      "SK_ID_CURR                    int64  \n",
      "MONTHS_BALANCE                int64  \n",
      "AMT_BALANCE                   float64\n",
      "AMT_CREDIT_LIMIT_ACTUAL       int64  \n",
      "AMT_DRAWINGS_ATM_CURRENT      float64\n",
      "AMT_DRAWINGS_CURRENT          float64\n",
      "AMT_DRAWINGS_OTHER_CURRENT    float64\n",
      "AMT_DRAWINGS_POS_CURRENT      float64\n",
      "AMT_INST_MIN_REGULARITY       float64\n",
      "AMT_PAYMENT_CURRENT           float64\n",
      "AMT_PAYMENT_TOTAL_CURRENT     float64\n",
      "AMT_RECEIVABLE_PRINCIPAL      float64\n",
      "AMT_RECIVABLE                 float64\n",
      "AMT_TOTAL_RECEIVABLE          float64\n",
      "CNT_DRAWINGS_ATM_CURRENT      float64\n",
      "CNT_DRAWINGS_CURRENT          int64  \n",
      "CNT_DRAWINGS_OTHER_CURRENT    float64\n",
      "CNT_DRAWINGS_POS_CURRENT      float64\n",
      "CNT_INSTALMENT_MATURE_CUM     float64\n",
      "NAME_CONTRACT_STATUS          object \n",
      "SK_DPD                        int64  \n",
      "SK_DPD_DEF                    int64  \n",
      "AVG_DPD                       float64\n",
      "dtype: object (3840312, 24)\n"
     ]
    }
   ],
   "source": [
    "CCB = CCB_FULL[0:]\n",
    "\n",
    "grp = CCB.groupby(by= ['SK_ID_CURR'])['SK_DPD'].mean().reset_index().rename(index = str, columns = {'SK_DPD': 'AVG_DPD'})\n",
    "CCB = CCB.merge(grp, on = ['SK_ID_CURR'], how = 'left')\n",
    "del grp \n",
    "gc.collect()\n",
    "\n",
    "print(CCB.dtypes, CCB.shape)"
   ]
  },
  {
   "cell_type": "markdown",
   "metadata": {},
   "source": [
    "## Feature 6 - % Of Minimum Payments Missed"
   ]
  },
  {
   "cell_type": "code",
   "execution_count": 10,
   "metadata": {},
   "outputs": [
    {
     "name": "stdout",
     "output_type": "stream",
     "text": [
      "SK_ID_PREV                    int64  \n",
      "SK_ID_CURR                    int64  \n",
      "MONTHS_BALANCE                int64  \n",
      "AMT_BALANCE                   float64\n",
      "AMT_CREDIT_LIMIT_ACTUAL       int64  \n",
      "AMT_DRAWINGS_ATM_CURRENT      float64\n",
      "AMT_DRAWINGS_CURRENT          float64\n",
      "AMT_DRAWINGS_OTHER_CURRENT    float64\n",
      "AMT_DRAWINGS_POS_CURRENT      float64\n",
      "AMT_INST_MIN_REGULARITY       float64\n",
      "AMT_PAYMENT_CURRENT           float64\n",
      "AMT_PAYMENT_TOTAL_CURRENT     float64\n",
      "AMT_RECEIVABLE_PRINCIPAL      float64\n",
      "AMT_RECIVABLE                 float64\n",
      "AMT_TOTAL_RECEIVABLE          float64\n",
      "CNT_DRAWINGS_ATM_CURRENT      float64\n",
      "CNT_DRAWINGS_CURRENT          int64  \n",
      "CNT_DRAWINGS_OTHER_CURRENT    float64\n",
      "CNT_DRAWINGS_POS_CURRENT      float64\n",
      "CNT_INSTALMENT_MATURE_CUM     float64\n",
      "NAME_CONTRACT_STATUS          object \n",
      "SK_DPD                        int64  \n",
      "SK_DPD_DEF                    int64  \n",
      "PERCENTAGE_MISSED_PAYMENTS    float64\n",
      "dtype: object (3840312, 24)\n"
     ]
    }
   ],
   "source": [
    "CCB = CCB_FULL[0:]\n",
    "\n",
    "def f(min_pay, total_pay):\n",
    "    \n",
    "    M = min_pay.tolist()\n",
    "    T = total_pay.tolist()\n",
    "    P = len(M)\n",
    "    c = 0 \n",
    "    # Find the count of transactions when Payment made is less than Minimum Payment \n",
    "    for i in range(len(M)):\n",
    "        if T[i] < M[i]:\n",
    "            c += 1  \n",
    "    return (100*c)/P\n",
    "\n",
    "grp = CCB.groupby(by = ['SK_ID_CURR']).apply(lambda x: f(x.AMT_INST_MIN_REGULARITY, x.AMT_PAYMENT_CURRENT)).reset_index().rename(index = str, columns = { 0 : 'PERCENTAGE_MISSED_PAYMENTS'})\n",
    "CCB = CCB.merge(grp, on = ['SK_ID_CURR'], how = 'left')\n",
    "del grp \n",
    "gc.collect()\n",
    "\n",
    "print(CCB.dtypes, CCB.shape)"
   ]
  },
  {
   "cell_type": "markdown",
   "metadata": {},
   "source": [
    "## Feature 7 - Ratio of Cash Vs Card Swipes"
   ]
  },
  {
   "cell_type": "markdown",
   "metadata": {},
   "source": [
    "### If A Customer Is Using Credit Cards for Cash Withdrawals - Is It A Red Flag?"
   ]
  },
  {
   "cell_type": "code",
   "execution_count": 11,
   "metadata": {},
   "outputs": [
    {
     "name": "stdout",
     "output_type": "stream",
     "text": [
      "SK_ID_PREV                    int64  \n",
      "SK_ID_CURR                    int64  \n",
      "MONTHS_BALANCE                int64  \n",
      "AMT_BALANCE                   float64\n",
      "AMT_CREDIT_LIMIT_ACTUAL       int64  \n",
      "AMT_DRAWINGS_ATM_CURRENT      float64\n",
      "AMT_DRAWINGS_CURRENT          float64\n",
      "AMT_DRAWINGS_OTHER_CURRENT    float64\n",
      "AMT_DRAWINGS_POS_CURRENT      float64\n",
      "AMT_INST_MIN_REGULARITY       float64\n",
      "AMT_PAYMENT_CURRENT           float64\n",
      "AMT_PAYMENT_TOTAL_CURRENT     float64\n",
      "AMT_RECEIVABLE_PRINCIPAL      float64\n",
      "AMT_RECIVABLE                 float64\n",
      "AMT_TOTAL_RECEIVABLE          float64\n",
      "CNT_DRAWINGS_ATM_CURRENT      float64\n",
      "CNT_DRAWINGS_CURRENT          int64  \n",
      "CNT_DRAWINGS_OTHER_CURRENT    float64\n",
      "CNT_DRAWINGS_POS_CURRENT      float64\n",
      "CNT_INSTALMENT_MATURE_CUM     float64\n",
      "NAME_CONTRACT_STATUS          object \n",
      "SK_DPD                        int64  \n",
      "SK_DPD_DEF                    int64  \n",
      "CASH_CARD_RATIO               float64\n",
      "dtype: object (3840312, 24)\n"
     ]
    }
   ],
   "source": [
    "CCB = CCB_FULL[0:]\n",
    "\n",
    "grp = CCB.groupby(by = ['SK_ID_CURR'])['AMT_DRAWINGS_ATM_CURRENT'].sum().reset_index().rename(index = str, columns = {'AMT_DRAWINGS_ATM_CURRENT' : 'DRAWINGS_ATM'})\n",
    "CCB = CCB.merge(grp, on = ['SK_ID_CURR'], how = 'left')\n",
    "del grp\n",
    "gc.collect()\n",
    "\n",
    "grp = CCB.groupby(by = ['SK_ID_CURR'])['AMT_DRAWINGS_CURRENT'].sum().reset_index().rename(index = str, columns = {'AMT_DRAWINGS_CURRENT' : 'DRAWINGS_TOTAL'})\n",
    "CCB = CCB.merge(grp, on = ['SK_ID_CURR'], how = 'left')\n",
    "del grp\n",
    "gc.collect()\n",
    "\n",
    "CCB['CASH_CARD_RATIO1'] = (CCB['DRAWINGS_ATM']/CCB['DRAWINGS_TOTAL'])*100\n",
    "del CCB['DRAWINGS_ATM']\n",
    "del CCB['DRAWINGS_TOTAL']\n",
    "gc.collect()\n",
    "\n",
    "grp = CCB.groupby(by = ['SK_ID_CURR'])['CASH_CARD_RATIO1'].mean().reset_index().rename(index = str, columns ={ 'CASH_CARD_RATIO1' : 'CASH_CARD_RATIO'})\n",
    "CCB = CCB.merge(grp, on = ['SK_ID_CURR'], how = 'left')\n",
    "del grp \n",
    "gc.collect()\n",
    "\n",
    "del CCB['CASH_CARD_RATIO1']\n",
    "gc.collect()\n",
    "\n",
    "print(CCB.dtypes, CCB.shape)\n",
    "\n",
    "# WE can leave NaN values as they are for LGBM "
   ]
  },
  {
   "cell_type": "markdown",
   "metadata": {},
   "source": [
    "## Feature 8 - Average Drawing Per Customer"
   ]
  },
  {
   "cell_type": "code",
   "execution_count": 12,
   "metadata": {},
   "outputs": [
    {
     "name": "stdout",
     "output_type": "stream",
     "text": [
      "SK_ID_PREV                    int64  \n",
      "SK_ID_CURR                    int64  \n",
      "MONTHS_BALANCE                int64  \n",
      "AMT_BALANCE                   float64\n",
      "AMT_CREDIT_LIMIT_ACTUAL       int64  \n",
      "AMT_DRAWINGS_ATM_CURRENT      float64\n",
      "AMT_DRAWINGS_CURRENT          float64\n",
      "AMT_DRAWINGS_OTHER_CURRENT    float64\n",
      "AMT_DRAWINGS_POS_CURRENT      float64\n",
      "AMT_INST_MIN_REGULARITY       float64\n",
      "AMT_PAYMENT_CURRENT           float64\n",
      "AMT_PAYMENT_TOTAL_CURRENT     float64\n",
      "AMT_RECEIVABLE_PRINCIPAL      float64\n",
      "AMT_RECIVABLE                 float64\n",
      "AMT_TOTAL_RECEIVABLE          float64\n",
      "CNT_DRAWINGS_ATM_CURRENT      float64\n",
      "CNT_DRAWINGS_CURRENT          int64  \n",
      "CNT_DRAWINGS_OTHER_CURRENT    float64\n",
      "CNT_DRAWINGS_POS_CURRENT      float64\n",
      "CNT_INSTALMENT_MATURE_CUM     float64\n",
      "NAME_CONTRACT_STATUS          object \n",
      "SK_DPD                        int64  \n",
      "SK_DPD_DEF                    int64  \n",
      "DRAWINGS_RATIO                float64\n",
      "dtype: object (3840312, 24)\n"
     ]
    }
   ],
   "source": [
    "CCB = CCB_FULL[0:]\n",
    "\n",
    "grp = CCB.groupby(by = ['SK_ID_CURR'])['AMT_DRAWINGS_CURRENT'].sum().reset_index().rename(index = str, columns = {'AMT_DRAWINGS_CURRENT' : 'TOTAL_DRAWINGS'})\n",
    "CCB = CCB.merge(grp, on = ['SK_ID_CURR'], how = 'left')\n",
    "del grp\n",
    "gc.collect()\n",
    "\n",
    "grp = CCB.groupby(by = ['SK_ID_CURR'])['CNT_DRAWINGS_CURRENT'].sum().reset_index().rename(index = str, columns = {'CNT_DRAWINGS_CURRENT' : 'NO_DRAWINGS'})\n",
    "CCB = CCB.merge(grp, on = ['SK_ID_CURR'], how = 'left')\n",
    "del grp\n",
    "gc.collect()\n",
    "\n",
    "CCB['DRAWINGS_RATIO1'] = (CCB['TOTAL_DRAWINGS']/CCB['NO_DRAWINGS'])*100\n",
    "del CCB['TOTAL_DRAWINGS']\n",
    "del CCB['NO_DRAWINGS']\n",
    "gc.collect()\n",
    "\n",
    "grp = CCB.groupby(by = ['SK_ID_CURR'])['DRAWINGS_RATIO1'].mean().reset_index().rename(index = str, columns ={ 'DRAWINGS_RATIO1' : 'DRAWINGS_RATIO'})\n",
    "CCB = CCB.merge(grp, on = ['SK_ID_CURR'], how = 'left')\n",
    "del grp \n",
    "gc.collect()\n",
    "\n",
    "del CCB['DRAWINGS_RATIO1']\n",
    "\n",
    "print(CCB.dtypes, CCB.shape)"
   ]
  },
  {
   "cell_type": "code",
   "execution_count": null,
   "metadata": {},
   "outputs": [],
   "source": []
  }
 ],
 "metadata": {
  "kernelspec": {
   "display_name": "Python 3",
   "language": "python",
   "name": "python3"
  },
  "language_info": {
   "codemirror_mode": {
    "name": "ipython",
    "version": 3
   },
   "file_extension": ".py",
   "mimetype": "text/x-python",
   "name": "python",
   "nbconvert_exporter": "python",
   "pygments_lexer": "ipython3",
   "version": "3.6.4"
  }
 },
 "nbformat": 4,
 "nbformat_minor": 2
}
